{
 "cells": [
  {
   "cell_type": "code",
   "execution_count": 1,
   "id": "71bae0e0",
   "metadata": {
    "_cell_guid": "b1076dfc-b9ad-4769-8c92-a6c4dae69d19",
    "_uuid": "8f2839f25d086af736a60e9eeb907d3b93b6e0e5",
    "execution": {
     "iopub.execute_input": "2023-03-29T10:37:16.801960Z",
     "iopub.status.busy": "2023-03-29T10:37:16.801536Z",
     "iopub.status.idle": "2023-03-29T10:37:16.813818Z",
     "shell.execute_reply": "2023-03-29T10:37:16.812567Z"
    },
    "papermill": {
     "duration": 0.02426,
     "end_time": "2023-03-29T10:37:16.816903",
     "exception": false,
     "start_time": "2023-03-29T10:37:16.792643",
     "status": "completed"
    },
    "tags": []
   },
   "outputs": [],
   "source": [
    "# This Python 3 environment comes with many helpful analytics libraries installed\n",
    "# It is defined by the kaggle/python Docker image: https://github.com/kaggle/docker-python\n",
    "# For example, here's several helpful packages to load\n",
    "\n",
    "import numpy as np # linear algebra\n",
    "import pandas as pd # data processing, CSV file I/O (e.g. pd.read_csv)\n",
    "\n",
    "# Input data files are available in the read-only \"../input/\" directory\n",
    "# For example, running this (by clicking run or pressing Shift+Enter) will list all files under the input directory\n",
    "\n",
    "import os\n",
    "for dirname, _, filenames in os.walk('/kaggle/input'):\n",
    "    for filename in filenames:\n",
    "        print(os.path.join(dirname, filename))\n",
    "\n",
    "# You can write up to 20GB to the current directory (/kaggle/working/) that gets preserved as output when you create a version using \"Save & Run All\" \n",
    "# You can also write temporary files to /kaggle/temp/, but they won't be saved outside of the current session"
   ]
  },
  {
   "cell_type": "code",
   "execution_count": 2,
   "id": "299b2d24",
   "metadata": {
    "execution": {
     "iopub.execute_input": "2023-03-29T10:37:16.831044Z",
     "iopub.status.busy": "2023-03-29T10:37:16.830334Z",
     "iopub.status.idle": "2023-03-29T10:37:16.897609Z",
     "shell.execute_reply": "2023-03-29T10:37:16.895514Z"
    },
    "papermill": {
     "duration": 0.07706,
     "end_time": "2023-03-29T10:37:16.900088",
     "exception": true,
     "start_time": "2023-03-29T10:37:16.823028",
     "status": "failed"
    },
    "tags": []
   },
   "outputs": [
    {
     "ename": "TypeError",
     "evalue": "array() takes from 1 to 2 positional arguments but 3 were given",
     "output_type": "error",
     "traceback": [
      "\u001b[0;31m---------------------------------------------------------------------------\u001b[0m",
      "\u001b[0;31mTypeError\u001b[0m                                 Traceback (most recent call last)",
      "\u001b[0;32m/tmp/ipykernel_19/4144988500.py\u001b[0m in \u001b[0;36m<module>\u001b[0;34m\u001b[0m\n\u001b[1;32m      7\u001b[0m vector_column = np.array([1], \n\u001b[1;32m      8\u001b[0m                          \u001b[0;34m[\u001b[0m\u001b[0;36m2\u001b[0m\u001b[0;34m]\u001b[0m\u001b[0;34m,\u001b[0m\u001b[0;34m\u001b[0m\u001b[0;34m\u001b[0m\u001b[0m\n\u001b[0;32m----> 9\u001b[0;31m                          [3])\n\u001b[0m",
      "\u001b[0;31mTypeError\u001b[0m: array() takes from 1 to 2 positional arguments but 3 were given"
     ]
    }
   ],
   "source": [
    "# 1.1 產生向量\n",
    "\n",
    "import numpy as np\n",
    "\n",
    "vector_row = np.array([1, 2, 3])\n",
    "\n",
    "vector_column = np.array([1], \n",
    "                         [2], \n",
    "                         [3])"
   ]
  },
  {
   "cell_type": "code",
   "execution_count": null,
   "id": "bfea7ff9",
   "metadata": {
    "papermill": {
     "duration": null,
     "end_time": null,
     "exception": null,
     "start_time": null,
     "status": "pending"
    },
    "tags": []
   },
   "outputs": [],
   "source": [
    "#1.2 產生矩陣\n",
    "\n",
    "import numpy as np\n",
    "\n",
    "matrix = np.array([1, 2], \n",
    "                  [3, 4],\n",
    "                  [5, 6])\n",
    "\n",
    "#或是用矩陣資料結構(不推薦)\n",
    "\n",
    "matrix_object = np.mat([[1, 2],\n",
    "                        [3, 4],\n",
    "                        [5, 6]])\n",
    "\n",
    "matrix([[1, 2], \n",
    "        [1, 2], \n",
    "        [1, 2]])"
   ]
  },
  {
   "cell_type": "code",
   "execution_count": null,
   "id": "6c9fc510",
   "metadata": {
    "execution": {
     "iopub.execute_input": "2023-03-29T08:16:23.531941Z",
     "iopub.status.busy": "2023-03-29T08:16:23.531532Z",
     "iopub.status.idle": "2023-03-29T08:16:23.545420Z",
     "shell.execute_reply": "2023-03-29T08:16:23.544071Z",
     "shell.execute_reply.started": "2023-03-29T08:16:23.531905Z"
    },
    "papermill": {
     "duration": null,
     "end_time": null,
     "exception": null,
     "start_time": null,
     "status": "pending"
    },
    "tags": []
   },
   "outputs": [],
   "source": [
    "#1.3 產生稀疏矩陣\n",
    "\n",
    "import numpy as np\n",
    "from scipy import sparse \n",
    "\n",
    "matrix = np.array([[0, 0], \n",
    "                   [0, 1], \n",
    "                   [3, 0]])\n",
    "\n",
    "# 產生壓縮稀疏列 (compressed sparse row, CSR) 矩陣\n",
    "matrix_sparse = sparse.csr_matrix(matrix)\n",
    "\n",
    "print(matrix_sparse)"
   ]
  },
  {
   "cell_type": "code",
   "execution_count": null,
   "id": "0fe63d95",
   "metadata": {
    "execution": {
     "iopub.execute_input": "2023-03-29T08:43:17.504175Z",
     "iopub.status.busy": "2023-03-29T08:43:17.503782Z",
     "iopub.status.idle": "2023-03-29T08:43:17.514903Z",
     "shell.execute_reply": "2023-03-29T08:43:17.513471Z",
     "shell.execute_reply.started": "2023-03-29T08:43:17.504140Z"
    },
    "papermill": {
     "duration": null,
     "end_time": null,
     "exception": null,
     "start_time": null,
     "status": "pending"
    },
    "tags": []
   },
   "outputs": [],
   "source": [
    "#1.4 選取元素\n",
    "\n",
    "import numpy as np \n",
    "\n",
    "vector = np.array([1, 2, 3, 4, 5, 6])\n",
    "\n",
    "matrix = np.array([[1, 2, 3], \n",
    "                   [4, 5, 6], \n",
    "                   [7, 8, 9]])\n",
    "\n",
    "print(vector[2], '\\n')\n",
    "\n",
    "print(matrix[1, 1], '\\n')\n",
    "\n",
    "#    | 0  1  2\n",
    "#-------------\n",
    "#  0 | 1  2  3\n",
    "#  1 | 4  5  6 \n",
    "#  2 | 7  8  9\n",
    "\n",
    "#選取向量中所有元素\n",
    "print(vector[:], '\\n')\n",
    "\n",
    "#選取從頭到第三(含第三)的所有元素\n",
    "print(vector[:3], '\\n')\n",
    "\n",
    "#選取最後一個元素\n",
    "print(vector[-1], '\\n')\n",
    "\n",
    "#選取矩陣的前兩列以及所有行\n",
    "print(matrix[:2, :], '\\n')\n",
    "\n",
    "#選取所有列與第二行\n",
    "print(matrix[:, 1:2], '\\n')\n"
   ]
  },
  {
   "cell_type": "code",
   "execution_count": null,
   "id": "a327a2d1",
   "metadata": {
    "execution": {
     "iopub.execute_input": "2023-03-29T08:46:04.752273Z",
     "iopub.status.busy": "2023-03-29T08:46:04.751068Z",
     "iopub.status.idle": "2023-03-29T08:46:04.759926Z",
     "shell.execute_reply": "2023-03-29T08:46:04.758627Z",
     "shell.execute_reply.started": "2023-03-29T08:46:04.752228Z"
    },
    "papermill": {
     "duration": null,
     "end_time": null,
     "exception": null,
     "start_time": null,
     "status": "pending"
    },
    "tags": []
   },
   "outputs": [],
   "source": [
    "#1.5 矩陣描述\n",
    "\n",
    "import numpy as np \n",
    "\n",
    "matrix = np.array([[1, 2, 3, 4], \n",
    "                   [5, 6, 7, 8], \n",
    "                   [9, 10, 11, 12]])\n",
    "\n",
    "# print number of rows and columns\n",
    "print(matrix.shape, '\\n')\n",
    "\n",
    "# print number of elements in the matrix \n",
    "print(matrix.size, '\\n')\n",
    "\n",
    "# print dimension of matrix\n",
    "print(matrix.ndim)"
   ]
  },
  {
   "cell_type": "code",
   "execution_count": null,
   "id": "f9d71111",
   "metadata": {
    "execution": {
     "iopub.execute_input": "2023-03-29T08:47:55.823872Z",
     "iopub.status.busy": "2023-03-29T08:47:55.823457Z",
     "iopub.status.idle": "2023-03-29T08:47:55.833750Z",
     "shell.execute_reply": "2023-03-29T08:47:55.832254Z",
     "shell.execute_reply.started": "2023-03-29T08:47:55.823837Z"
    },
    "papermill": {
     "duration": null,
     "end_time": null,
     "exception": null,
     "start_time": null,
     "status": "pending"
    },
    "tags": []
   },
   "outputs": [],
   "source": [
    "#1.6 在元素上套用操作\n",
    "\n",
    "import numpy as np \n",
    "\n",
    "matrix = np.array([[1, 2, 3], \n",
    "                   [4, 5, 6], \n",
    "                   [7, 8, 9]])\n",
    "\n",
    "add_100 = lambda i: i + 100\n",
    "\n",
    "vectorized_add_100 = np.vectorize(add_100)\n",
    "\n",
    "vectorized_add_100(matrix)\n",
    "\n"
   ]
  },
  {
   "cell_type": "code",
   "execution_count": null,
   "id": "e866833e",
   "metadata": {
    "execution": {
     "iopub.execute_input": "2023-03-29T08:51:18.268382Z",
     "iopub.status.busy": "2023-03-29T08:51:18.267910Z",
     "iopub.status.idle": "2023-03-29T08:51:18.277515Z",
     "shell.execute_reply": "2023-03-29T08:51:18.275999Z",
     "shell.execute_reply.started": "2023-03-29T08:51:18.268341Z"
    },
    "papermill": {
     "duration": null,
     "end_time": null,
     "exception": null,
     "start_time": null,
     "status": "pending"
    },
    "tags": []
   },
   "outputs": [],
   "source": [
    "#1.7 find minimum and maximum\n",
    "\n",
    "import numpy as np \n",
    "\n",
    "matrix = np.array([[1, 2, 3], \n",
    "                   [4, 5, 6], \n",
    "                   [7, 8, 9]])\n",
    "\n",
    "print(np.max(matrix), '\\n')\n",
    "\n",
    "#找出每一行(axis=0)中的最大元素\n",
    "print(np.max(matrix, axis = 0), '\\n')\n",
    "\n",
    "print(np.min(matrix), '\\n')\n",
    "\n",
    "#找出每一列(axis=1)中的最大元素\n",
    "print(np.max(matrix, axis = 1), '\\n')"
   ]
  },
  {
   "cell_type": "code",
   "execution_count": null,
   "id": "d07683ce",
   "metadata": {
    "execution": {
     "iopub.execute_input": "2023-03-29T08:53:49.331639Z",
     "iopub.status.busy": "2023-03-29T08:53:49.330384Z",
     "iopub.status.idle": "2023-03-29T08:53:49.340350Z",
     "shell.execute_reply": "2023-03-29T08:53:49.338926Z",
     "shell.execute_reply.started": "2023-03-29T08:53:49.331582Z"
    },
    "papermill": {
     "duration": null,
     "end_time": null,
     "exception": null,
     "start_time": null,
     "status": "pending"
    },
    "tags": []
   },
   "outputs": [],
   "source": [
    "# 1.8 mean, variance, and standard deviation\n",
    "\n",
    "import numpy as np \n",
    "\n",
    "matrix = np.array([[1, 2, 3], \n",
    "                   [4, 5, 6], \n",
    "                   [7, 8, 9]])\n",
    "\n",
    "print('mean of the matrix is: ', np.mean(matrix), '\\n')\n",
    "\n",
    "print('variance of the matrix is: ', np.var(matrix), '\\n')\n",
    "\n",
    "print('standard deviation of the matrix is: ', np.std(matrix))"
   ]
  },
  {
   "cell_type": "code",
   "execution_count": null,
   "id": "371de8a6",
   "metadata": {
    "execution": {
     "iopub.execute_input": "2023-03-29T09:08:09.396686Z",
     "iopub.status.busy": "2023-03-29T09:08:09.396264Z",
     "iopub.status.idle": "2023-03-29T09:08:09.406012Z",
     "shell.execute_reply": "2023-03-29T09:08:09.404621Z",
     "shell.execute_reply.started": "2023-03-29T09:08:09.396652Z"
    },
    "papermill": {
     "duration": null,
     "end_time": null,
     "exception": null,
     "start_time": null,
     "status": "pending"
    },
    "tags": []
   },
   "outputs": [],
   "source": [
    "#1.9 陣列轉換\n",
    "\n",
    "import numpy as np\n",
    "\n",
    "matrix = np.array([[1, 2, 3], \n",
    "                   [4, 5, 6], \n",
    "                   [7, 8, 9], \n",
    "                   [10, 11, 12]])\n",
    "\n",
    "#轉換成兩列六行的矩陣\n",
    "print(matrix.reshape(2, 6), '\\n')\n",
    "\n",
    "print(matrix.size, '\\n')\n",
    "\n",
    "#轉換成只有一列, 但有所需最大行數的矩陣\n",
    "print(matrix.reshape(1, -1), '\\n')\n",
    "\n",
    "#轉換成一維矩陣\n",
    "print(matrix.reshape(12), '\\n')"
   ]
  },
  {
   "cell_type": "code",
   "execution_count": null,
   "id": "d4fc374f",
   "metadata": {
    "execution": {
     "iopub.execute_input": "2023-03-29T09:10:18.460494Z",
     "iopub.status.busy": "2023-03-29T09:10:18.459614Z",
     "iopub.status.idle": "2023-03-29T09:10:18.469260Z",
     "shell.execute_reply": "2023-03-29T09:10:18.467599Z",
     "shell.execute_reply.started": "2023-03-29T09:10:18.460444Z"
    },
    "papermill": {
     "duration": null,
     "end_time": null,
     "exception": null,
     "start_time": null,
     "status": "pending"
    },
    "tags": []
   },
   "outputs": [],
   "source": [
    "# 1.10 向量與矩陣的轉置\n",
    "\n",
    "import numpy as np \n",
    "\n",
    "matrix = np.array([[1, 2, 3], \n",
    "                   [4, 5, 6], \n",
    "                   [7, 8, 9]])\n",
    "\n",
    "print(matrix.T, '\\n')\n",
    "\n",
    "#列向量轉換成行向量(注意要將其改成二維才可轉換)\n",
    "print(np.array([[1, 2, 3, 4, 5, 6]]).T)"
   ]
  },
  {
   "cell_type": "code",
   "execution_count": null,
   "id": "46587af4",
   "metadata": {
    "execution": {
     "iopub.execute_input": "2023-03-29T09:11:05.805107Z",
     "iopub.status.busy": "2023-03-29T09:11:05.804689Z",
     "iopub.status.idle": "2023-03-29T09:11:05.815267Z",
     "shell.execute_reply": "2023-03-29T09:11:05.813634Z",
     "shell.execute_reply.started": "2023-03-29T09:11:05.805073Z"
    },
    "papermill": {
     "duration": null,
     "end_time": null,
     "exception": null,
     "start_time": null,
     "status": "pending"
    },
    "tags": []
   },
   "outputs": [],
   "source": [
    "#1.11 矩陣的攤平\n",
    "\n",
    "import numpy as np \n",
    "\n",
    "matrix = np.array([[1, 2, 3], \n",
    "                   [4, 5, 6], \n",
    "                   [7, 8, 9]])\n",
    "\n",
    "matrix.flatten()\n",
    "\n",
    "#同理, 也可用 matrix.reshape(1, -1)"
   ]
  },
  {
   "cell_type": "code",
   "execution_count": null,
   "id": "8b3c1049",
   "metadata": {
    "execution": {
     "iopub.execute_input": "2023-03-29T09:12:33.422022Z",
     "iopub.status.busy": "2023-03-29T09:12:33.421082Z",
     "iopub.status.idle": "2023-03-29T09:12:33.443735Z",
     "shell.execute_reply": "2023-03-29T09:12:33.441904Z",
     "shell.execute_reply.started": "2023-03-29T09:12:33.421958Z"
    },
    "papermill": {
     "duration": null,
     "end_time": null,
     "exception": null,
     "start_time": null,
     "status": "pending"
    },
    "tags": []
   },
   "outputs": [],
   "source": [
    "#1.12 找出矩陣的 rank\n",
    "\n",
    "import numpy as np \n",
    "\n",
    "matrix = np.array([[1, 1, 5], \n",
    "                   [1, 1, 10], \n",
    "                   [1, 1, 15]])\n",
    "\n",
    "np.linalg.matrix_rank(matrix)"
   ]
  },
  {
   "cell_type": "code",
   "execution_count": null,
   "id": "4db55ef2",
   "metadata": {
    "execution": {
     "iopub.execute_input": "2023-03-29T09:14:03.537222Z",
     "iopub.status.busy": "2023-03-29T09:14:03.535851Z",
     "iopub.status.idle": "2023-03-29T09:14:03.545282Z",
     "shell.execute_reply": "2023-03-29T09:14:03.544115Z",
     "shell.execute_reply.started": "2023-03-29T09:14:03.537144Z"
    },
    "papermill": {
     "duration": null,
     "end_time": null,
     "exception": null,
     "start_time": null,
     "status": "pending"
    },
    "tags": []
   },
   "outputs": [],
   "source": [
    "#1.13 行列值的計算\n",
    "import numpy as np \n",
    "\n",
    "matrix = np.array([[1, 2, 3], \n",
    "                   [4, 5, 6], \n",
    "                   [7, 8, 9]])\n",
    "\n",
    "np.linalg.det(matrix)"
   ]
  },
  {
   "cell_type": "code",
   "execution_count": null,
   "id": "dcacb116",
   "metadata": {
    "execution": {
     "iopub.execute_input": "2023-03-29T09:15:19.231033Z",
     "iopub.status.busy": "2023-03-29T09:15:19.230594Z",
     "iopub.status.idle": "2023-03-29T09:15:19.239321Z",
     "shell.execute_reply": "2023-03-29T09:15:19.237983Z",
     "shell.execute_reply.started": "2023-03-29T09:15:19.230994Z"
    },
    "papermill": {
     "duration": null,
     "end_time": null,
     "exception": null,
     "start_time": null,
     "status": "pending"
    },
    "tags": []
   },
   "outputs": [],
   "source": [
    "#1.14 矩陣對角線元素取得\n",
    "\n",
    "import numpy as np \n",
    "\n",
    "matrix = np.array([[1, 2, 3], \n",
    "                   [4, 5, 6], \n",
    "                   [7, 8, 9]])\n",
    "\n",
    "print(matrix.diagonal(), '\\n')\n",
    "print(matrix.diagonal(offset=1), '\\n')\n",
    "print(matrix.diagonal(offset=-1), '\\n')\n"
   ]
  },
  {
   "cell_type": "code",
   "execution_count": null,
   "id": "4495e60a",
   "metadata": {
    "execution": {
     "iopub.execute_input": "2023-03-29T09:15:50.014315Z",
     "iopub.status.busy": "2023-03-29T09:15:50.013541Z",
     "iopub.status.idle": "2023-03-29T09:15:50.024190Z",
     "shell.execute_reply": "2023-03-29T09:15:50.022961Z",
     "shell.execute_reply.started": "2023-03-29T09:15:50.014263Z"
    },
    "papermill": {
     "duration": null,
     "end_time": null,
     "exception": null,
     "start_time": null,
     "status": "pending"
    },
    "tags": []
   },
   "outputs": [],
   "source": [
    "#1.15 矩陣 trace 計算\n",
    "\n",
    "import numpy as np \n",
    "\n",
    "matrix = np.array([[1, 2, 3], \n",
    "                   [4, 5, 6], \n",
    "                   [7, 8, 9]])\n",
    "\n",
    "matrix.trace()"
   ]
  },
  {
   "cell_type": "code",
   "execution_count": null,
   "id": "2cb9d8e3",
   "metadata": {
    "execution": {
     "iopub.execute_input": "2023-03-29T10:22:13.340216Z",
     "iopub.status.busy": "2023-03-29T10:22:13.339391Z",
     "iopub.status.idle": "2023-03-29T10:22:13.348966Z",
     "shell.execute_reply": "2023-03-29T10:22:13.347743Z",
     "shell.execute_reply.started": "2023-03-29T10:22:13.340168Z"
    },
    "papermill": {
     "duration": null,
     "end_time": null,
     "exception": null,
     "start_time": null,
     "status": "pending"
    },
    "tags": []
   },
   "outputs": [],
   "source": [
    "#1.16 eigenvalues\n",
    "\n",
    "import numpy as np \n",
    "\n",
    "matrix = np.array([[1, -1, 3], \n",
    "                   [1, 1, 6], \n",
    "                   [3, 8, 9]])\n",
    "\n",
    "eigenvalues, eigenvector = np.linalg.eig(matrix)\n",
    "\n",
    "print(eigenvalues, '\\n')\n",
    "\n",
    "print(eigenvector)"
   ]
  },
  {
   "cell_type": "code",
   "execution_count": null,
   "id": "f234803f",
   "metadata": {
    "execution": {
     "iopub.execute_input": "2023-03-29T10:23:28.864745Z",
     "iopub.status.busy": "2023-03-29T10:23:28.864268Z",
     "iopub.status.idle": "2023-03-29T10:23:28.875046Z",
     "shell.execute_reply": "2023-03-29T10:23:28.873741Z",
     "shell.execute_reply.started": "2023-03-29T10:23:28.864705Z"
    },
    "papermill": {
     "duration": null,
     "end_time": null,
     "exception": null,
     "start_time": null,
     "status": "pending"
    },
    "tags": []
   },
   "outputs": [],
   "source": [
    "#1.17 dot product \n",
    "\n",
    "import numpy as np\n",
    "\n",
    "vector_a = np.array([1, 2, 3])\n",
    "vector_b = np.array([4, 5, 6])\n",
    "\n",
    "# 1x4 + 2x5 + 3x6\n",
    "np.dot(vector_a, vector_b)"
   ]
  },
  {
   "cell_type": "code",
   "execution_count": null,
   "id": "5cafa035",
   "metadata": {
    "execution": {
     "iopub.execute_input": "2023-03-29T10:27:10.655628Z",
     "iopub.status.busy": "2023-03-29T10:27:10.655179Z",
     "iopub.status.idle": "2023-03-29T10:27:10.665018Z",
     "shell.execute_reply": "2023-03-29T10:27:10.663860Z",
     "shell.execute_reply.started": "2023-03-29T10:27:10.655589Z"
    },
    "papermill": {
     "duration": null,
     "end_time": null,
     "exception": null,
     "start_time": null,
     "status": "pending"
    },
    "tags": []
   },
   "outputs": [],
   "source": [
    "#1.18 array add and subtract, multiply\n",
    "\n",
    "import numpy as np\n",
    "\n",
    "matrix_a = np.array([[1, 1, 1], \n",
    "                     [1, 1, 1], \n",
    "                     [1, 1, 2]])\n",
    "\n",
    "matrix_b = np.array([[1, 3, 1], \n",
    "                     [1, 3, 1], \n",
    "                     [1, 3, 8]])\n",
    "\n",
    "matrix_sum = np.add(matrix_a, matrix_b)\n",
    "print(matrix_sum, '\\n')\n",
    "\n",
    "matrix_subtract = np.subtract(matrix_a, matrix_b)\n",
    "print(matrix_subtract, '\\n')\n",
    "\n",
    "matrix_multiply = np.dot(matrix_a, matrix_b)\n",
    "print(matrix_multiply, '\\n')"
   ]
  },
  {
   "cell_type": "code",
   "execution_count": null,
   "id": "7832e038",
   "metadata": {
    "execution": {
     "iopub.execute_input": "2023-03-29T10:28:40.928144Z",
     "iopub.status.busy": "2023-03-29T10:28:40.927571Z",
     "iopub.status.idle": "2023-03-29T10:28:40.941017Z",
     "shell.execute_reply": "2023-03-29T10:28:40.939207Z",
     "shell.execute_reply.started": "2023-03-29T10:28:40.928091Z"
    },
    "papermill": {
     "duration": null,
     "end_time": null,
     "exception": null,
     "start_time": null,
     "status": "pending"
    },
    "tags": []
   },
   "outputs": [],
   "source": [
    "#1.20 inverse\n",
    "\n",
    "import numpy as np\n",
    "\n",
    "matrix = np.array([[1, 4], \n",
    "                   [2, 5]])\n",
    "\n",
    "np.linalg.inv(matrix)\n"
   ]
  },
  {
   "cell_type": "code",
   "execution_count": null,
   "id": "25fc753d",
   "metadata": {
    "execution": {
     "iopub.execute_input": "2023-03-29T10:33:29.578321Z",
     "iopub.status.busy": "2023-03-29T10:33:29.577847Z",
     "iopub.status.idle": "2023-03-29T10:33:29.588381Z",
     "shell.execute_reply": "2023-03-29T10:33:29.586956Z",
     "shell.execute_reply.started": "2023-03-29T10:33:29.578283Z"
    },
    "papermill": {
     "duration": null,
     "end_time": null,
     "exception": null,
     "start_time": null,
     "status": "pending"
    },
    "tags": []
   },
   "outputs": [],
   "source": [
    "#1.21 亂數 pseudorandom values\n",
    "\n",
    "import numpy as np \n",
    "\n",
    "np.random.seed(0)\n",
    "\n",
    "# 產生 3 個 0.0 ~ 1.0 的隨機浮動數\n",
    "print(np.random.random(3), '\\n')\n",
    "\n",
    "# 產生 3 個 1 ~ 10 之間的隨機整數(int)\n",
    "print(np.random.randint(0, 11, 3), '\\n')\n",
    "\n",
    "# 從 N(0, 1) 中選出 3 個隨機數\n",
    "print(np.random.normal(0.0, 1.0, 3), '\\n')\n",
    "\n",
    "# 從 logistic distribution(0, 1.0) 選出 3 個隨機數\n",
    "print(np.random.logistic(0.0, 1.0, 3), '\\n')\n",
    "\n",
    "# 從 U[1.0, 2.0] 選出 3 個隨機數\n",
    "print(np.random.uniform(1.0, 2.0, 3), '\\n')\n"
   ]
  }
 ],
 "metadata": {
  "kernelspec": {
   "display_name": "Python 3",
   "language": "python",
   "name": "python3"
  },
  "language_info": {
   "codemirror_mode": {
    "name": "ipython",
    "version": 3
   },
   "file_extension": ".py",
   "mimetype": "text/x-python",
   "name": "python",
   "nbconvert_exporter": "python",
   "pygments_lexer": "ipython3",
   "version": "3.7.12"
  },
  "papermill": {
   "default_parameters": {},
   "duration": 11.448585,
   "end_time": "2023-03-29T10:37:17.630941",
   "environment_variables": {},
   "exception": true,
   "input_path": "__notebook__.ipynb",
   "output_path": "__notebook__.ipynb",
   "parameters": {},
   "start_time": "2023-03-29T10:37:06.182356",
   "version": "2.4.0"
  }
 },
 "nbformat": 4,
 "nbformat_minor": 5
}
